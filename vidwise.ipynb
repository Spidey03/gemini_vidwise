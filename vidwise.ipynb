{
 "cells": [
  {
   "cell_type": "markdown",
   "metadata": {},
   "source": [
    "### Authenticate with Google Generative AI\n",
    "\n",
    "- Please visit [Google AI Studio](https://ai.google.dev/) to generate API key.\n",
    "- Export the key to your environment as `GEMINI_API_KEY`"
   ]
  },
  {
   "cell_type": "code",
   "execution_count": 3,
   "metadata": {},
   "outputs": [],
   "source": [
    "import os\n",
    "GEMINI_API_KEY = os.getenv(\"GEMINI_API_KEY\")"
   ]
  },
  {
   "cell_type": "markdown",
   "metadata": {},
   "source": []
  },
  {
   "cell_type": "code",
   "execution_count": 7,
   "metadata": {},
   "outputs": [],
   "source": [
    "import google.generativeai as genai\n",
    "\n",
    "generation_config = {\n",
    "  \"temperature\": 1,\n",
    "  \"top_p\": 0.95,\n",
    "  \"top_k\": 64,\n",
    "  \"max_output_tokens\": 8192,\n",
    "  \"response_mime_type\": \"text/plain\",\n",
    "}\n",
    "genai.configure(api_key=GEMINI_API_KEY)\n",
    "model = genai.GenerativeModel('gemini-1.5-flash', generation_config=generation_config)"
   ]
  },
  {
   "cell_type": "code",
   "execution_count": 20,
   "metadata": {},
   "outputs": [],
   "source": [
    "def upload_file(file_path: str, file_type: str = None):\n",
    "    \"\"\"Uploads the given file to Gemini\n",
    "\n",
    "    Refer: https://ai.google.dev/gemini-api/docs/prompting_with_media\n",
    "    \"\"\"\n",
    "    file = genai.upload_file(file_path, mime_type=file_type)\n",
    "    print(f\"{file} uploaded successfully\")\n",
    "    return file"
   ]
  },
  {
   "cell_type": "code",
   "execution_count": null,
   "metadata": {},
   "outputs": [],
   "source": [
    "def get_file_status(file):\n",
    "    file = genai.get_file(file.name)\n",
    "    return file.state.name\n",
    "\n",
    "def check_file_is_active(file):\n",
    "    while get_file_status(file=file) == \"PROCESSING\":\n",
    "        print(\".\", end=\"\", flush=True)\n",
    "    if get_file_status(file=file) != \"ACTIVE\":\n",
    "        raise Exception(f\"{file} failed to process\")\n",
    "    print(\"\")\n",
    "    return True\n",
    "\n",
    "def check_all_files_status(files):\n",
    "    print(\"Processing files...\", end=\"\", flush=True)\n",
    "    status = True\n",
    "    for file in files:\n",
    "        status = status and check_file_is_active(file=file)\n",
    "\n",
    "    print(\"All files processed\" if status else \"Experiencing difficulties in processing files\")"
   ]
  },
  {
   "cell_type": "code",
   "execution_count": 35,
   "metadata": {},
   "outputs": [
    {
     "data": {
      "text/plain": [
       "<function google.generativeai.models.list_models(*, page_size: 'int | None' = 50, client: 'glm.ModelServiceClient | None' = None, request_options: 'helper_types.RequestOptionsType | None' = None) -> 'model_types.ModelsIterable'>"
      ]
     },
     "execution_count": 35,
     "metadata": {},
     "output_type": "execute_result"
    }
   ],
   "source": [
    "genai.list_models"
   ]
  },
  {
   "cell_type": "code",
   "execution_count": 36,
   "metadata": {},
   "outputs": [
    {
     "name": "stdout",
     "output_type": "stream",
     "text": [
      "genai.File({\n",
      "    'name': 'files/y2eqfsq55njl',\n",
      "    'display_name': 'Deadpool dance Bye-bye-bye.mp4',\n",
      "    'mime_type': 'video/mp4',\n",
      "    'sha256_hash': 'YTY5YzMzZDhmOGMxMzc4ZjMxODhjMTZlMTMzYTI4NDkzZDczODI1YzQ2OWY0NGQyMzRmMmJlMjg1ZjQ5YzAwNg==',\n",
      "    'size_bytes': '9500941',\n",
      "    'state': 'PROCESSING',\n",
      "    'uri': 'https://generativelanguage.googleapis.com/v1beta/files/y2eqfsq55njl',\n",
      "    'create_time': '2024-11-07T05:40:31.046078Z',\n",
      "    'expiration_time': '2024-11-09T05:40:30.984894022Z',\n",
      "    'update_time': '2024-11-07T05:40:31.046078Z'}) uploaded successfully\n",
      "Processing files.....All files processed\n"
     ]
    }
   ],
   "source": [
    "file_paths = [\"/home/naveen/Dowloads/Deadpool dance Bye-bye-bye.mp4\"]\n",
    "\n",
    "files = [\n",
    "    upload_file(file_path=file) for file in file_paths\n",
    "]\n",
    "check_all_files_status(files=files)"
   ]
  },
  {
   "cell_type": "code",
   "execution_count": 40,
   "metadata": {},
   "outputs": [],
   "source": [
    "chat_session = model.start_chat(\n",
    "    history=[{\n",
    "        \"role\": \"user\",\n",
    "        \"parts\": [files[0]]\n",
    "    }]\n",
    ")"
   ]
  },
  {
   "cell_type": "code",
   "execution_count": 41,
   "metadata": {},
   "outputs": [
    {
     "data": {
      "text/plain": [
       "ChatSession(\n",
       "    model=genai.GenerativeModel(\n",
       "        model_name='models/gemini-1.5-flash',\n",
       "        generation_config={'temperature': 1, 'top_p': 0.95, 'top_k': 64, 'max_output_tokens': 8192, 'response_mime_type': 'text/plain'},\n",
       "        safety_settings={},\n",
       "        tools=None,\n",
       "        system_instruction=None,\n",
       "        cached_content=None\n",
       "    ),\n",
       "    history=[protos.Content({'parts': [{'file_data': {'file_uri': 'https://gene.../y2eqfsq55njl', 'mime_type': 'video/mp4'}}], 'role': 'user'})]\n",
       ")"
      ]
     },
     "execution_count": 41,
     "metadata": {},
     "output_type": "execute_result"
    }
   ],
   "source": [
    "chat_session"
   ]
  },
  {
   "cell_type": "code",
   "execution_count": 46,
   "metadata": {},
   "outputs": [
    {
     "data": {
      "text/plain": [
       "[parts {\n",
       "   file_data {\n",
       "     mime_type: \"video/mp4\"\n",
       "     file_uri: \"https://generativelanguage.googleapis.com/v1beta/files/y2eqfsq55njl\"\n",
       "   }\n",
       " }\n",
       " role: \"user\"]"
      ]
     },
     "execution_count": 46,
     "metadata": {},
     "output_type": "execute_result"
    }
   ],
   "source": [
    "chat_session.history"
   ]
  },
  {
   "cell_type": "code",
   "execution_count": null,
   "metadata": {},
   "outputs": [],
   "source": []
  }
 ],
 "metadata": {
  "kernelspec": {
   "display_name": "venv",
   "language": "python",
   "name": "python3"
  },
  "language_info": {
   "codemirror_mode": {
    "name": "ipython",
    "version": 3
   },
   "file_extension": ".py",
   "mimetype": "text/x-python",
   "name": "python",
   "nbconvert_exporter": "python",
   "pygments_lexer": "ipython3",
   "version": "3.11.10"
  }
 },
 "nbformat": 4,
 "nbformat_minor": 2
}
